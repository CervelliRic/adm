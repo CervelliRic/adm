{
 "cells": [
  {
   "cell_type": "markdown",
   "metadata": {},
   "source": [
    "The lab material presented here is based on the data provided by the [OpenFlights](https://openflights.org/data.html) dataset that contains information on airports, airlines and routes.\n",
    "\n",
    "The [OpenFlights](https://openflights.org/data.html) dataset contains the ''Airport database'' that provides information for over 10,000 airports, train stations and ferry terminals spanning the globe. Each entry contains the following information:\n",
    "* **Airport ID** - Unique OpenFlights identifier for this airport.\n",
    "* **Name** - Name of airport. May or may not contain the City name.\n",
    "* **City** - Main city served by airport. May be spelled differently from Name.\n",
    "* **Country** - Country or territory where airport is located. See countries.dat to cross-reference to ISO 3166-1 codes.\n",
    "* **IATA** - 3-letter IATA code. Null if not assigned/unknown.\n",
    "* **ICAO** - 4-letter ICAO code. Null if not assigned.\n",
    "* **Latitude** - Decimal degrees, usually to six significant digits. Negative is South, positive is North.\n",
    "* **Longitude** - Decimal degrees, usually to six significant digits. Negative is West, positive is East.\n",
    "* **Altitude** - In feet.\n",
    "* **Timezone** - Hours offset from UTC. Fractional hours are expressed as decimals, eg. India is 5.5.\n",
    "* **DST** - Daylight savings time. One of E (Europe), A (US/Canada), S (South America), O (Australia), Z (New Zealand), N (None) or U (Unknown). See also: Help: Time\n",
    "* **Tz database time zone** - Timezone in \"tz\" (Olson) format, eg. \"America/Los_Angeles\".\n",
    "* **Type** - Type of the airport. Value \"airport\" for air terminals, \"station\" for train stations, \"port\" for ferry terminals and \"unknown\" if not known. In airports.csv, only type=airport is included.\n",
    "* **Source** - Source of this data. \"OurAirports\" for data sourced from OurAirports, \"Legacy\" for old data not matched to OurAirports (mostly DAFIF), \"User\" for unverified user contributions. In airports.csv, only source=OurAirports is included.\n",
    "\n",
    "The data is UTF-8 (Unicode) encoded.\n",
    "\n",
    "The [OpenFlights](https://openflights.org/data.html) dataset also contains the ''Route database'' which provides information for 59036 routes between 3209 airports on 531 airlines spanning the globe. Each entry contains the following information:\n",
    "* **Airline** - 2-letter (IATA) or 3-letter (ICAO) code of the airline.\n",
    "* **Airline ID** - Unique OpenFlights identifier for airline (see Airline).\n",
    "* **Source airport** - 3-letter (IATA) or 4-letter (ICAO) code of the source airport.\n",
    "* **Source airport ID** - Unique OpenFlights identifier for source airport (see Airport)\n",
    "* **Destination airport** - 3-letter (IATA) or 4-letter (ICAO) code of the destination airport.\n",
    "* **Destination airport ID** - Unique OpenFlights identifier for destination airport (see Airport)\n",
    "* **Codeshare** - \"Y\" if this flight is a codeshare (that is, not operated by Airline, but another carrier), empty otherwise.\n",
    "* **Stops** - Number of stops on this flight (\"0\" for direct)\n",
    "* **Equipment** - 3-letter codes for plane type(s) generally used on this flight, separated by spaces\n",
    "\n",
    "The data is ISO 8859-1 (Latin-1) encoded. The special value \\N is used for \"NULL\" to indicate that no value is available, and is understood automatically by MySQL if imported.\n",
    "\n",
    "## Airport dataset\n",
    "\n",
    "We start by retrieving the dataset directly from the web using [urllib](https://docs.python.org/3/library/urllib.html) method from the standard python library."
   ]
  },
  {
   "cell_type": "code",
   "execution_count": 1,
   "metadata": {
    "collapsed": true
   },
   "outputs": [],
   "source": [
    "import urllib.request\n",
    "url = 'https://raw.githubusercontent.com/jpatokal/openflights/master/data/airports.dat'\n",
    "u = urllib.request.urlopen(url)\n",
    "rawdata = u.read()"
   ]
  },
  {
   "cell_type": "markdown",
   "metadata": {},
   "source": [
    "We store the information retrieved to a local file so that we can work with the data without the need to re-download again and again. "
   ]
  },
  {
   "cell_type": "code",
   "execution_count": 4,
   "metadata": {
    "collapsed": true
   },
   "outputs": [],
   "source": [
    "localFile = open(\"airports.dat\", \"wb\")\n",
    "localFile.write(rawdata)\n",
    "localFile.close()"
   ]
  },
  {
   "cell_type": "markdown",
   "metadata": {},
   "source": [
    "The files retrieved follows a comma-separated format, so once again we use the [CSVREADER](https://docs.python.org/2/library/csv.html) a standard python package as explained in [Reading and writing comma-separated data](http://opentechschool.github.io/python-data-intro/core/csv.html). \n",
    "\n",
    "Notice that since the file is using [UTF-8 encoding](https://en.wikipedia.org/wiki/UTF-8) we need to specify this when using the _open_ method."
   ]
  },
  {
   "cell_type": "code",
   "execution_count": 5,
   "metadata": {
    "collapsed": false
   },
   "outputs": [
    {
     "ename": "NameError",
     "evalue": "name 'csv' is not defined",
     "output_type": "error",
     "traceback": [
      "\u001b[0;31m---------------------------------------------------------------------------\u001b[0m",
      "\u001b[0;31mNameError\u001b[0m                                 Traceback (most recent call last)",
      "\u001b[0;32m<ipython-input-5-57fc8a252263>\u001b[0m in \u001b[0;36m<module>\u001b[0;34m()\u001b[0m\n\u001b[1;32m      1\u001b[0m \u001b[0mf\u001b[0m \u001b[0;34m=\u001b[0m \u001b[0mopen\u001b[0m\u001b[0;34m(\u001b[0m\u001b[0;34m\"airports.dat\"\u001b[0m\u001b[0;34m,\u001b[0m \u001b[0mencoding\u001b[0m\u001b[0;34m=\u001b[0m\u001b[0;34m'utf8'\u001b[0m\u001b[0;34m)\u001b[0m\u001b[0;34m\u001b[0m\u001b[0m\n\u001b[1;32m      2\u001b[0m \u001b[0mairports\u001b[0m \u001b[0;34m=\u001b[0m \u001b[0;34m[\u001b[0m\u001b[0;34m]\u001b[0m\u001b[0;34m\u001b[0m\u001b[0m\n\u001b[0;32m----> 3\u001b[0;31m \u001b[0;32mfor\u001b[0m \u001b[0mrow\u001b[0m \u001b[0;32min\u001b[0m \u001b[0mcsv\u001b[0m\u001b[0;34m.\u001b[0m\u001b[0mreader\u001b[0m\u001b[0;34m(\u001b[0m\u001b[0mf\u001b[0m\u001b[0;34m,\u001b[0m \u001b[0mdelimiter\u001b[0m\u001b[0;34m=\u001b[0m\u001b[0;34m','\u001b[0m\u001b[0;34m)\u001b[0m\u001b[0;34m:\u001b[0m\u001b[0;34m\u001b[0m\u001b[0m\n\u001b[0m\u001b[1;32m      4\u001b[0m     \u001b[0mthisLine\u001b[0m \u001b[0;34m=\u001b[0m \u001b[0;34m[\u001b[0m\u001b[0;34m]\u001b[0m\u001b[0;34m\u001b[0m\u001b[0m\n\u001b[1;32m      5\u001b[0m     \u001b[0;32mtry\u001b[0m\u001b[0;34m:\u001b[0m\u001b[0;34m\u001b[0m\u001b[0m\n",
      "\u001b[0;31mNameError\u001b[0m: name 'csv' is not defined"
     ]
    }
   ],
   "source": [
    "f = open(\"airports.dat\", encoding='utf8')\n",
    "airports = []\n",
    "for row in csv.reader(f, delimiter=','):\n",
    "    thisLine = []\n",
    "    try:\n",
    "        thisLine.append(int(row[0])) # Airport ID\n",
    "        thisLine.append(row[1]) # Airport Name\n",
    "        thisLine.append(row[2]) # City\n",
    "        thisLine.append(row[3]) # Country\n",
    "        thisLine.append(row[4]) # IATA/FAA Code\n",
    "        thisLine.append(row[5]) # ICAO Code\n",
    "        thisLine.append(float(row[6])) # Latitude\n",
    "        thisLine.append(float(row[7])) # Longitude\n",
    "        thisLine.append(float(row[8])) # Altitude\n",
    "        thisLine.append(float(row[9])) # Timezone offset from UTC\n",
    "        thisLine.append(row[10]) # Daylight savings code\n",
    "        thisLine.append(row[11]) # Timezone\n",
    "        thisLine.append(row[12]) # Type\n",
    "        thisLine.append(row[13]) # Source\n",
    "\n",
    "    except :\n",
    "        print(row[1])\n",
    "        \n",
    "    else:\n",
    "        airports.append(thisLine)"
   ]
  },
  {
   "cell_type": "code",
   "execution_count": null,
   "metadata": {
    "collapsed": true
   },
   "outputs": [],
   "source": []
  }
 ],
 "metadata": {
  "kernelspec": {
   "display_name": "Python 3",
   "language": "python",
   "name": "python3"
  },
  "language_info": {
   "codemirror_mode": {
    "name": "ipython",
    "version": 3
   },
   "file_extension": ".py",
   "mimetype": "text/x-python",
   "name": "python",
   "nbconvert_exporter": "python",
   "pygments_lexer": "ipython3",
   "version": "3.5.2"
  }
 },
 "nbformat": 4,
 "nbformat_minor": 1
}
