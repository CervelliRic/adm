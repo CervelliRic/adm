{
 "cells": [
  {
   "cell_type": "markdown",
   "metadata": {},
   "source": [
    "The 3rd lab material is based on the Refcardz from [DZone](https://dzone.com/) on [Practical Data Mining with Python](https://dzone.com/refcardz/data-mining-discovering-and).\n",
    "\n"
   ]
  },
  {
   "cell_type": "code",
   "execution_count": 1,
   "metadata": {
    "collapsed": false
   },
   "outputs": [],
   "source": [
    "import urllib.request\n",
    "url = 'http://aima.cs.berkeley.edu/data/iris.csv'\n",
    "u = urllib.request.urlopen(url)\n",
    "iris = u.read()"
   ]
  },
  {
   "cell_type": "markdown",
   "metadata": {},
   "source": [
    "We will work a bit more with files, this time we will create a new file and _write_ data in the file. For a nice introduction to using files in python and how to read & write files, you can follow the [Introduction to Data Processing with Python](http://opentechschool.github.io/python-data-intro/core/text-files.html)."
   ]
  },
  {
   "cell_type": "code",
   "execution_count": 2,
   "metadata": {
    "collapsed": false
   },
   "outputs": [],
   "source": [
    "localFile = open(\"iris.csv\", \"wb\")\n",
    "localFile.write(iris)\n",
    "localFile.close()"
   ]
  },
  {
   "cell_type": "markdown",
   "metadata": {},
   "source": [
    "In the 2nd lab we worked with CSV files using the [CSVREADER](https://docs.python.org/2/library/csv.html) a standard python package as explained in [Reading and writing comma-separated data](http://opentechschool.github.io/python-data-intro/core/csv.html). \n",
    "\n",
    "Although this is a very nice and simple way to access data, in this lab we will work with [NUMPY](http://www.numpy.org/) a python library for scientific computing and in particular [GENFROMTXT](http://docs.scipy.org/doc/numpy/reference/generated/numpy.genfromtxt.html). The main benefit is that it offers many options in terms of customizing the way the data are loaded from the text file, with missing values handled as specified."
   ]
  },
  {
   "cell_type": "code",
   "execution_count": 3,
   "metadata": {
    "collapsed": false
   },
   "outputs": [],
   "source": [
    "from numpy import genfromtxt, zeros\n",
    "\n",
    "# read the first 4 columns\n",
    "data = genfromtxt('iris.csv',delimiter=',',usecols=(0,1,2,3)) \n",
    "\n",
    "# read the fifth column\n",
    "target = genfromtxt('iris.csv',delimiter=',',usecols=(4),dtype=str)"
   ]
  },
  {
   "cell_type": "code",
   "execution_count": 4,
   "metadata": {
    "collapsed": false
   },
   "outputs": [
    {
     "name": "stdout",
     "output_type": "stream",
     "text": [
      "(150, 4) (150,)\n"
     ]
    }
   ],
   "source": [
    "print(data.shape, target.shape)"
   ]
  },
  {
   "cell_type": "code",
   "execution_count": 16,
   "metadata": {
    "collapsed": false
   },
   "outputs": [
    {
     "name": "stdout",
     "output_type": "stream",
     "text": [
      "{'setosa', 'versicolor', 'virginica'}\n"
     ]
    }
   ],
   "source": [
    "print(set(target))"
   ]
  },
  {
   "cell_type": "code",
   "execution_count": 5,
   "metadata": {
    "collapsed": false
   },
   "outputs": [
    {
     "name": "stderr",
     "output_type": "stream",
     "text": [
      "/usr/local/lib/python3.4/dist-packages/matplotlib-1.4.3-py3.4-linux-x86_64.egg/matplotlib/backends/backend_gtk3agg.py:18: UserWarning: The Gtk3Agg backend is known to not work on Python 3.x with pycairo. Try installing cairocffi.\n",
      "  \"The Gtk3Agg backend is known to not work on Python 3.x with pycairo. \"\n"
     ]
    },
    {
     "ename": "NotImplementedError",
     "evalue": "Surface.create_for_data: Not Implemented yet.",
     "output_type": "error",
     "traceback": [
      "\u001b[1;31m---------------------------------------------------------------------------\u001b[0m",
      "\u001b[1;31mNotImplementedError\u001b[0m                       Traceback (most recent call last)",
      "\u001b[1;32m/usr/local/lib/python3.4/dist-packages/matplotlib-1.4.3-py3.4-linux-x86_64.egg/matplotlib/backends/backend_gtk3agg.py\u001b[0m in \u001b[0;36mon_draw_event\u001b[1;34m(self, widget, ctx)\u001b[0m\n\u001b[0;32m     67\u001b[0m             \u001b[1;32melse\u001b[0m\u001b[1;33m:\u001b[0m\u001b[1;33m\u001b[0m\u001b[0m\n\u001b[0;32m     68\u001b[0m                 image = cairo.ImageSurface.create_for_data(\n\u001b[1;32m---> 69\u001b[1;33m                     buf, cairo.FORMAT_ARGB32, width, height)\n\u001b[0m\u001b[0;32m     70\u001b[0m             \u001b[0mctx\u001b[0m\u001b[1;33m.\u001b[0m\u001b[0mset_source_surface\u001b[0m\u001b[1;33m(\u001b[0m\u001b[0mimage\u001b[0m\u001b[1;33m,\u001b[0m \u001b[0mx\u001b[0m\u001b[1;33m,\u001b[0m \u001b[0my\u001b[0m\u001b[1;33m)\u001b[0m\u001b[1;33m\u001b[0m\u001b[0m\n\u001b[0;32m     71\u001b[0m             \u001b[0mctx\u001b[0m\u001b[1;33m.\u001b[0m\u001b[0mpaint\u001b[0m\u001b[1;33m(\u001b[0m\u001b[1;33m)\u001b[0m\u001b[1;33m\u001b[0m\u001b[0m\n",
      "\u001b[1;31mNotImplementedError\u001b[0m: Surface.create_for_data: Not Implemented yet."
     ]
    },
    {
     "ename": "NotImplementedError",
     "evalue": "Surface.create_for_data: Not Implemented yet.",
     "output_type": "error",
     "traceback": [
      "\u001b[1;31m---------------------------------------------------------------------------\u001b[0m",
      "\u001b[1;31mNotImplementedError\u001b[0m                       Traceback (most recent call last)",
      "\u001b[1;32m/usr/local/lib/python3.4/dist-packages/matplotlib-1.4.3-py3.4-linux-x86_64.egg/matplotlib/backends/backend_gtk3agg.py\u001b[0m in \u001b[0;36mon_draw_event\u001b[1;34m(self, widget, ctx)\u001b[0m\n\u001b[0;32m     67\u001b[0m             \u001b[1;32melse\u001b[0m\u001b[1;33m:\u001b[0m\u001b[1;33m\u001b[0m\u001b[0m\n\u001b[0;32m     68\u001b[0m                 image = cairo.ImageSurface.create_for_data(\n\u001b[1;32m---> 69\u001b[1;33m                     buf, cairo.FORMAT_ARGB32, width, height)\n\u001b[0m\u001b[0;32m     70\u001b[0m             \u001b[0mctx\u001b[0m\u001b[1;33m.\u001b[0m\u001b[0mset_source_surface\u001b[0m\u001b[1;33m(\u001b[0m\u001b[0mimage\u001b[0m\u001b[1;33m,\u001b[0m \u001b[0mx\u001b[0m\u001b[1;33m,\u001b[0m \u001b[0my\u001b[0m\u001b[1;33m)\u001b[0m\u001b[1;33m\u001b[0m\u001b[0m\n\u001b[0;32m     71\u001b[0m             \u001b[0mctx\u001b[0m\u001b[1;33m.\u001b[0m\u001b[0mpaint\u001b[0m\u001b[1;33m(\u001b[0m\u001b[1;33m)\u001b[0m\u001b[1;33m\u001b[0m\u001b[0m\n",
      "\u001b[1;31mNotImplementedError\u001b[0m: Surface.create_for_data: Not Implemented yet."
     ]
    },
    {
     "ename": "NotImplementedError",
     "evalue": "Surface.create_for_data: Not Implemented yet.",
     "output_type": "error",
     "traceback": [
      "\u001b[1;31m---------------------------------------------------------------------------\u001b[0m",
      "\u001b[1;31mNotImplementedError\u001b[0m                       Traceback (most recent call last)",
      "\u001b[1;32m/usr/local/lib/python3.4/dist-packages/matplotlib-1.4.3-py3.4-linux-x86_64.egg/matplotlib/backends/backend_gtk3agg.py\u001b[0m in \u001b[0;36mon_draw_event\u001b[1;34m(self, widget, ctx)\u001b[0m\n\u001b[0;32m     67\u001b[0m             \u001b[1;32melse\u001b[0m\u001b[1;33m:\u001b[0m\u001b[1;33m\u001b[0m\u001b[0m\n\u001b[0;32m     68\u001b[0m                 image = cairo.ImageSurface.create_for_data(\n\u001b[1;32m---> 69\u001b[1;33m                     buf, cairo.FORMAT_ARGB32, width, height)\n\u001b[0m\u001b[0;32m     70\u001b[0m             \u001b[0mctx\u001b[0m\u001b[1;33m.\u001b[0m\u001b[0mset_source_surface\u001b[0m\u001b[1;33m(\u001b[0m\u001b[0mimage\u001b[0m\u001b[1;33m,\u001b[0m \u001b[0mx\u001b[0m\u001b[1;33m,\u001b[0m \u001b[0my\u001b[0m\u001b[1;33m)\u001b[0m\u001b[1;33m\u001b[0m\u001b[0m\n\u001b[0;32m     71\u001b[0m             \u001b[0mctx\u001b[0m\u001b[1;33m.\u001b[0m\u001b[0mpaint\u001b[0m\u001b[1;33m(\u001b[0m\u001b[1;33m)\u001b[0m\u001b[1;33m\u001b[0m\u001b[0m\n",
      "\u001b[1;31mNotImplementedError\u001b[0m: Surface.create_for_data: Not Implemented yet."
     ]
    },
    {
     "ename": "NotImplementedError",
     "evalue": "Surface.create_for_data: Not Implemented yet.",
     "output_type": "error",
     "traceback": [
      "\u001b[1;31m---------------------------------------------------------------------------\u001b[0m",
      "\u001b[1;31mNotImplementedError\u001b[0m                       Traceback (most recent call last)",
      "\u001b[1;32m/usr/local/lib/python3.4/dist-packages/matplotlib-1.4.3-py3.4-linux-x86_64.egg/matplotlib/backends/backend_gtk3agg.py\u001b[0m in \u001b[0;36mon_draw_event\u001b[1;34m(self, widget, ctx)\u001b[0m\n\u001b[0;32m     67\u001b[0m             \u001b[1;32melse\u001b[0m\u001b[1;33m:\u001b[0m\u001b[1;33m\u001b[0m\u001b[0m\n\u001b[0;32m     68\u001b[0m                 image = cairo.ImageSurface.create_for_data(\n\u001b[1;32m---> 69\u001b[1;33m                     buf, cairo.FORMAT_ARGB32, width, height)\n\u001b[0m\u001b[0;32m     70\u001b[0m             \u001b[0mctx\u001b[0m\u001b[1;33m.\u001b[0m\u001b[0mset_source_surface\u001b[0m\u001b[1;33m(\u001b[0m\u001b[0mimage\u001b[0m\u001b[1;33m,\u001b[0m \u001b[0mx\u001b[0m\u001b[1;33m,\u001b[0m \u001b[0my\u001b[0m\u001b[1;33m)\u001b[0m\u001b[1;33m\u001b[0m\u001b[0m\n\u001b[0;32m     71\u001b[0m             \u001b[0mctx\u001b[0m\u001b[1;33m.\u001b[0m\u001b[0mpaint\u001b[0m\u001b[1;33m(\u001b[0m\u001b[1;33m)\u001b[0m\u001b[1;33m\u001b[0m\u001b[0m\n",
      "\u001b[1;31mNotImplementedError\u001b[0m: Surface.create_for_data: Not Implemented yet."
     ]
    },
    {
     "ename": "NotImplementedError",
     "evalue": "Surface.create_for_data: Not Implemented yet.",
     "output_type": "error",
     "traceback": [
      "\u001b[1;31m---------------------------------------------------------------------------\u001b[0m",
      "\u001b[1;31mNotImplementedError\u001b[0m                       Traceback (most recent call last)",
      "\u001b[1;32m/usr/local/lib/python3.4/dist-packages/matplotlib-1.4.3-py3.4-linux-x86_64.egg/matplotlib/backends/backend_gtk3agg.py\u001b[0m in \u001b[0;36mon_draw_event\u001b[1;34m(self, widget, ctx)\u001b[0m\n\u001b[0;32m     67\u001b[0m             \u001b[1;32melse\u001b[0m\u001b[1;33m:\u001b[0m\u001b[1;33m\u001b[0m\u001b[0m\n\u001b[0;32m     68\u001b[0m                 image = cairo.ImageSurface.create_for_data(\n\u001b[1;32m---> 69\u001b[1;33m                     buf, cairo.FORMAT_ARGB32, width, height)\n\u001b[0m\u001b[0;32m     70\u001b[0m             \u001b[0mctx\u001b[0m\u001b[1;33m.\u001b[0m\u001b[0mset_source_surface\u001b[0m\u001b[1;33m(\u001b[0m\u001b[0mimage\u001b[0m\u001b[1;33m,\u001b[0m \u001b[0mx\u001b[0m\u001b[1;33m,\u001b[0m \u001b[0my\u001b[0m\u001b[1;33m)\u001b[0m\u001b[1;33m\u001b[0m\u001b[0m\n\u001b[0;32m     71\u001b[0m             \u001b[0mctx\u001b[0m\u001b[1;33m.\u001b[0m\u001b[0mpaint\u001b[0m\u001b[1;33m(\u001b[0m\u001b[1;33m)\u001b[0m\u001b[1;33m\u001b[0m\u001b[0m\n",
      "\u001b[1;31mNotImplementedError\u001b[0m: Surface.create_for_data: Not Implemented yet."
     ]
    },
    {
     "ename": "NotImplementedError",
     "evalue": "Surface.create_for_data: Not Implemented yet.",
     "output_type": "error",
     "traceback": [
      "\u001b[1;31m---------------------------------------------------------------------------\u001b[0m",
      "\u001b[1;31mNotImplementedError\u001b[0m                       Traceback (most recent call last)",
      "\u001b[1;32m/usr/local/lib/python3.4/dist-packages/matplotlib-1.4.3-py3.4-linux-x86_64.egg/matplotlib/backends/backend_gtk3agg.py\u001b[0m in \u001b[0;36mon_draw_event\u001b[1;34m(self, widget, ctx)\u001b[0m\n\u001b[0;32m     67\u001b[0m             \u001b[1;32melse\u001b[0m\u001b[1;33m:\u001b[0m\u001b[1;33m\u001b[0m\u001b[0m\n\u001b[0;32m     68\u001b[0m                 image = cairo.ImageSurface.create_for_data(\n\u001b[1;32m---> 69\u001b[1;33m                     buf, cairo.FORMAT_ARGB32, width, height)\n\u001b[0m\u001b[0;32m     70\u001b[0m             \u001b[0mctx\u001b[0m\u001b[1;33m.\u001b[0m\u001b[0mset_source_surface\u001b[0m\u001b[1;33m(\u001b[0m\u001b[0mimage\u001b[0m\u001b[1;33m,\u001b[0m \u001b[0mx\u001b[0m\u001b[1;33m,\u001b[0m \u001b[0my\u001b[0m\u001b[1;33m)\u001b[0m\u001b[1;33m\u001b[0m\u001b[0m\n\u001b[0;32m     71\u001b[0m             \u001b[0mctx\u001b[0m\u001b[1;33m.\u001b[0m\u001b[0mpaint\u001b[0m\u001b[1;33m(\u001b[0m\u001b[1;33m)\u001b[0m\u001b[1;33m\u001b[0m\u001b[0m\n",
      "\u001b[1;31mNotImplementedError\u001b[0m: Surface.create_for_data: Not Implemented yet."
     ]
    },
    {
     "ename": "NotImplementedError",
     "evalue": "Surface.create_for_data: Not Implemented yet.",
     "output_type": "error",
     "traceback": [
      "\u001b[1;31m---------------------------------------------------------------------------\u001b[0m",
      "\u001b[1;31mNotImplementedError\u001b[0m                       Traceback (most recent call last)",
      "\u001b[1;32m/usr/local/lib/python3.4/dist-packages/matplotlib-1.4.3-py3.4-linux-x86_64.egg/matplotlib/backends/backend_gtk3agg.py\u001b[0m in \u001b[0;36mon_draw_event\u001b[1;34m(self, widget, ctx)\u001b[0m\n\u001b[0;32m     67\u001b[0m             \u001b[1;32melse\u001b[0m\u001b[1;33m:\u001b[0m\u001b[1;33m\u001b[0m\u001b[0m\n\u001b[0;32m     68\u001b[0m                 image = cairo.ImageSurface.create_for_data(\n\u001b[1;32m---> 69\u001b[1;33m                     buf, cairo.FORMAT_ARGB32, width, height)\n\u001b[0m\u001b[0;32m     70\u001b[0m             \u001b[0mctx\u001b[0m\u001b[1;33m.\u001b[0m\u001b[0mset_source_surface\u001b[0m\u001b[1;33m(\u001b[0m\u001b[0mimage\u001b[0m\u001b[1;33m,\u001b[0m \u001b[0mx\u001b[0m\u001b[1;33m,\u001b[0m \u001b[0my\u001b[0m\u001b[1;33m)\u001b[0m\u001b[1;33m\u001b[0m\u001b[0m\n\u001b[0;32m     71\u001b[0m             \u001b[0mctx\u001b[0m\u001b[1;33m.\u001b[0m\u001b[0mpaint\u001b[0m\u001b[1;33m(\u001b[0m\u001b[1;33m)\u001b[0m\u001b[1;33m\u001b[0m\u001b[0m\n",
      "\u001b[1;31mNotImplementedError\u001b[0m: Surface.create_for_data: Not Implemented yet."
     ]
    },
    {
     "ename": "NotImplementedError",
     "evalue": "Surface.create_for_data: Not Implemented yet.",
     "output_type": "error",
     "traceback": [
      "\u001b[1;31m---------------------------------------------------------------------------\u001b[0m",
      "\u001b[1;31mNotImplementedError\u001b[0m                       Traceback (most recent call last)",
      "\u001b[1;32m/usr/local/lib/python3.4/dist-packages/matplotlib-1.4.3-py3.4-linux-x86_64.egg/matplotlib/backends/backend_gtk3agg.py\u001b[0m in \u001b[0;36mon_draw_event\u001b[1;34m(self, widget, ctx)\u001b[0m\n\u001b[0;32m     67\u001b[0m             \u001b[1;32melse\u001b[0m\u001b[1;33m:\u001b[0m\u001b[1;33m\u001b[0m\u001b[0m\n\u001b[0;32m     68\u001b[0m                 image = cairo.ImageSurface.create_for_data(\n\u001b[1;32m---> 69\u001b[1;33m                     buf, cairo.FORMAT_ARGB32, width, height)\n\u001b[0m\u001b[0;32m     70\u001b[0m             \u001b[0mctx\u001b[0m\u001b[1;33m.\u001b[0m\u001b[0mset_source_surface\u001b[0m\u001b[1;33m(\u001b[0m\u001b[0mimage\u001b[0m\u001b[1;33m,\u001b[0m \u001b[0mx\u001b[0m\u001b[1;33m,\u001b[0m \u001b[0my\u001b[0m\u001b[1;33m)\u001b[0m\u001b[1;33m\u001b[0m\u001b[0m\n\u001b[0;32m     71\u001b[0m             \u001b[0mctx\u001b[0m\u001b[1;33m.\u001b[0m\u001b[0mpaint\u001b[0m\u001b[1;33m(\u001b[0m\u001b[1;33m)\u001b[0m\u001b[1;33m\u001b[0m\u001b[0m\n",
      "\u001b[1;31mNotImplementedError\u001b[0m: Surface.create_for_data: Not Implemented yet."
     ]
    },
    {
     "name": "stderr",
     "output_type": "stream",
     "text": [
      "/usr/local/lib/python3.4/dist-packages/matplotlib-1.4.3-py3.4-linux-x86_64.egg/matplotlib/backends/backend_gtk3.py:215: Warning: Source ID 7 was not found when attempting to remove it\n",
      "  GLib.source_remove(self._idle_event_id)\n"
     ]
    }
   ],
   "source": [
    "from pylab import plot, show\n",
    "plot(data[target=='setosa',0],data[target=='setosa',2],'bo')\n",
    "plot(data[target=='versicolor',0],data[target=='versicolor',2],'ro')\n",
    "plot(data[target=='virginica',0],data[target=='virginica',2],'go')\n",
    "show()"
   ]
  },
  {
   "cell_type": "code",
   "execution_count": 11,
   "metadata": {
    "collapsed": false
   },
   "outputs": [
    {
     "ename": "NotImplementedError",
     "evalue": "Surface.create_for_data: Not Implemented yet.",
     "output_type": "error",
     "traceback": [
      "\u001b[1;31m---------------------------------------------------------------------------\u001b[0m",
      "\u001b[1;31mNotImplementedError\u001b[0m                       Traceback (most recent call last)",
      "\u001b[1;32m/usr/local/lib/python3.4/dist-packages/matplotlib-1.4.3-py3.4-linux-x86_64.egg/matplotlib/backends/backend_gtk3agg.py\u001b[0m in \u001b[0;36mon_draw_event\u001b[1;34m(self, widget, ctx)\u001b[0m\n\u001b[0;32m     67\u001b[0m             \u001b[1;32melse\u001b[0m\u001b[1;33m:\u001b[0m\u001b[1;33m\u001b[0m\u001b[0m\n\u001b[0;32m     68\u001b[0m                 image = cairo.ImageSurface.create_for_data(\n\u001b[1;32m---> 69\u001b[1;33m                     buf, cairo.FORMAT_ARGB32, width, height)\n\u001b[0m\u001b[0;32m     70\u001b[0m             \u001b[0mctx\u001b[0m\u001b[1;33m.\u001b[0m\u001b[0mset_source_surface\u001b[0m\u001b[1;33m(\u001b[0m\u001b[0mimage\u001b[0m\u001b[1;33m,\u001b[0m \u001b[0mx\u001b[0m\u001b[1;33m,\u001b[0m \u001b[0my\u001b[0m\u001b[1;33m)\u001b[0m\u001b[1;33m\u001b[0m\u001b[0m\n\u001b[0;32m     71\u001b[0m             \u001b[0mctx\u001b[0m\u001b[1;33m.\u001b[0m\u001b[0mpaint\u001b[0m\u001b[1;33m(\u001b[0m\u001b[1;33m)\u001b[0m\u001b[1;33m\u001b[0m\u001b[0m\n",
      "\u001b[1;31mNotImplementedError\u001b[0m: Surface.create_for_data: Not Implemented yet."
     ]
    },
    {
     "ename": "NotImplementedError",
     "evalue": "Surface.create_for_data: Not Implemented yet.",
     "output_type": "error",
     "traceback": [
      "\u001b[1;31m---------------------------------------------------------------------------\u001b[0m",
      "\u001b[1;31mNotImplementedError\u001b[0m                       Traceback (most recent call last)",
      "\u001b[1;32m/usr/local/lib/python3.4/dist-packages/matplotlib-1.4.3-py3.4-linux-x86_64.egg/matplotlib/backends/backend_gtk3agg.py\u001b[0m in \u001b[0;36mon_draw_event\u001b[1;34m(self, widget, ctx)\u001b[0m\n\u001b[0;32m     67\u001b[0m             \u001b[1;32melse\u001b[0m\u001b[1;33m:\u001b[0m\u001b[1;33m\u001b[0m\u001b[0m\n\u001b[0;32m     68\u001b[0m                 image = cairo.ImageSurface.create_for_data(\n\u001b[1;32m---> 69\u001b[1;33m                     buf, cairo.FORMAT_ARGB32, width, height)\n\u001b[0m\u001b[0;32m     70\u001b[0m             \u001b[0mctx\u001b[0m\u001b[1;33m.\u001b[0m\u001b[0mset_source_surface\u001b[0m\u001b[1;33m(\u001b[0m\u001b[0mimage\u001b[0m\u001b[1;33m,\u001b[0m \u001b[0mx\u001b[0m\u001b[1;33m,\u001b[0m \u001b[0my\u001b[0m\u001b[1;33m)\u001b[0m\u001b[1;33m\u001b[0m\u001b[0m\n\u001b[0;32m     71\u001b[0m             \u001b[0mctx\u001b[0m\u001b[1;33m.\u001b[0m\u001b[0mpaint\u001b[0m\u001b[1;33m(\u001b[0m\u001b[1;33m)\u001b[0m\u001b[1;33m\u001b[0m\u001b[0m\n",
      "\u001b[1;31mNotImplementedError\u001b[0m: Surface.create_for_data: Not Implemented yet."
     ]
    },
    {
     "ename": "NotImplementedError",
     "evalue": "Surface.create_for_data: Not Implemented yet.",
     "output_type": "error",
     "traceback": [
      "\u001b[1;31m---------------------------------------------------------------------------\u001b[0m",
      "\u001b[1;31mNotImplementedError\u001b[0m                       Traceback (most recent call last)",
      "\u001b[1;32m/usr/local/lib/python3.4/dist-packages/matplotlib-1.4.3-py3.4-linux-x86_64.egg/matplotlib/backends/backend_gtk3agg.py\u001b[0m in \u001b[0;36mon_draw_event\u001b[1;34m(self, widget, ctx)\u001b[0m\n\u001b[0;32m     67\u001b[0m             \u001b[1;32melse\u001b[0m\u001b[1;33m:\u001b[0m\u001b[1;33m\u001b[0m\u001b[0m\n\u001b[0;32m     68\u001b[0m                 image = cairo.ImageSurface.create_for_data(\n\u001b[1;32m---> 69\u001b[1;33m                     buf, cairo.FORMAT_ARGB32, width, height)\n\u001b[0m\u001b[0;32m     70\u001b[0m             \u001b[0mctx\u001b[0m\u001b[1;33m.\u001b[0m\u001b[0mset_source_surface\u001b[0m\u001b[1;33m(\u001b[0m\u001b[0mimage\u001b[0m\u001b[1;33m,\u001b[0m \u001b[0mx\u001b[0m\u001b[1;33m,\u001b[0m \u001b[0my\u001b[0m\u001b[1;33m)\u001b[0m\u001b[1;33m\u001b[0m\u001b[0m\n\u001b[0;32m     71\u001b[0m             \u001b[0mctx\u001b[0m\u001b[1;33m.\u001b[0m\u001b[0mpaint\u001b[0m\u001b[1;33m(\u001b[0m\u001b[1;33m)\u001b[0m\u001b[1;33m\u001b[0m\u001b[0m\n",
      "\u001b[1;31mNotImplementedError\u001b[0m: Surface.create_for_data: Not Implemented yet."
     ]
    },
    {
     "ename": "NotImplementedError",
     "evalue": "Surface.create_for_data: Not Implemented yet.",
     "output_type": "error",
     "traceback": [
      "\u001b[1;31m---------------------------------------------------------------------------\u001b[0m",
      "\u001b[1;31mNotImplementedError\u001b[0m                       Traceback (most recent call last)",
      "\u001b[1;32m/usr/local/lib/python3.4/dist-packages/matplotlib-1.4.3-py3.4-linux-x86_64.egg/matplotlib/backends/backend_gtk3agg.py\u001b[0m in \u001b[0;36mon_draw_event\u001b[1;34m(self, widget, ctx)\u001b[0m\n\u001b[0;32m     67\u001b[0m             \u001b[1;32melse\u001b[0m\u001b[1;33m:\u001b[0m\u001b[1;33m\u001b[0m\u001b[0m\n\u001b[0;32m     68\u001b[0m                 image = cairo.ImageSurface.create_for_data(\n\u001b[1;32m---> 69\u001b[1;33m                     buf, cairo.FORMAT_ARGB32, width, height)\n\u001b[0m\u001b[0;32m     70\u001b[0m             \u001b[0mctx\u001b[0m\u001b[1;33m.\u001b[0m\u001b[0mset_source_surface\u001b[0m\u001b[1;33m(\u001b[0m\u001b[0mimage\u001b[0m\u001b[1;33m,\u001b[0m \u001b[0mx\u001b[0m\u001b[1;33m,\u001b[0m \u001b[0my\u001b[0m\u001b[1;33m)\u001b[0m\u001b[1;33m\u001b[0m\u001b[0m\n\u001b[0;32m     71\u001b[0m             \u001b[0mctx\u001b[0m\u001b[1;33m.\u001b[0m\u001b[0mpaint\u001b[0m\u001b[1;33m(\u001b[0m\u001b[1;33m)\u001b[0m\u001b[1;33m\u001b[0m\u001b[0m\n",
      "\u001b[1;31mNotImplementedError\u001b[0m: Surface.create_for_data: Not Implemented yet."
     ]
    },
    {
     "ename": "NotImplementedError",
     "evalue": "Surface.create_for_data: Not Implemented yet.",
     "output_type": "error",
     "traceback": [
      "\u001b[1;31m---------------------------------------------------------------------------\u001b[0m",
      "\u001b[1;31mNotImplementedError\u001b[0m                       Traceback (most recent call last)",
      "\u001b[1;32m/usr/local/lib/python3.4/dist-packages/matplotlib-1.4.3-py3.4-linux-x86_64.egg/matplotlib/backends/backend_gtk3agg.py\u001b[0m in \u001b[0;36mon_draw_event\u001b[1;34m(self, widget, ctx)\u001b[0m\n\u001b[0;32m     67\u001b[0m             \u001b[1;32melse\u001b[0m\u001b[1;33m:\u001b[0m\u001b[1;33m\u001b[0m\u001b[0m\n\u001b[0;32m     68\u001b[0m                 image = cairo.ImageSurface.create_for_data(\n\u001b[1;32m---> 69\u001b[1;33m                     buf, cairo.FORMAT_ARGB32, width, height)\n\u001b[0m\u001b[0;32m     70\u001b[0m             \u001b[0mctx\u001b[0m\u001b[1;33m.\u001b[0m\u001b[0mset_source_surface\u001b[0m\u001b[1;33m(\u001b[0m\u001b[0mimage\u001b[0m\u001b[1;33m,\u001b[0m \u001b[0mx\u001b[0m\u001b[1;33m,\u001b[0m \u001b[0my\u001b[0m\u001b[1;33m)\u001b[0m\u001b[1;33m\u001b[0m\u001b[0m\n\u001b[0;32m     71\u001b[0m             \u001b[0mctx\u001b[0m\u001b[1;33m.\u001b[0m\u001b[0mpaint\u001b[0m\u001b[1;33m(\u001b[0m\u001b[1;33m)\u001b[0m\u001b[1;33m\u001b[0m\u001b[0m\n",
      "\u001b[1;31mNotImplementedError\u001b[0m: Surface.create_for_data: Not Implemented yet."
     ]
    },
    {
     "name": "stderr",
     "output_type": "stream",
     "text": [
      "/usr/local/lib/python3.4/dist-packages/matplotlib-1.4.3-py3.4-linux-x86_64.egg/matplotlib/backends/backend_gtk3.py:215: Warning: Source ID 1421 was not found when attempting to remove it\n",
      "  GLib.source_remove(self._idle_event_id)\n"
     ]
    }
   ],
   "source": [
    "from pylab import figure, subplot, hist, xlim, show\n",
    "xmin = min(data[:,0])\n",
    "xmax = max(data[:,0])\n",
    "figure()\n",
    "subplot(411) # distribution of the setosa class (1st, on the top)\n",
    "hist(data[target=='setosa',0],color='b',alpha=.2)\n",
    "xlim(xmin,xmax)\n",
    "subplot(412) # distribution of the versicolor class (2nd)\n",
    "hist(data[target=='versicolor',0],color='r',alpha=.2)\n",
    "xlim(xmin,xmax)\n",
    "subplot(413) # distribution of the virginica class (3rd)\n",
    "hist(data[target=='virginica',0],color='g',alpha=.2)\n",
    "xlim(xmin,xmax)\n",
    "subplot(414) # global histogram (4th, on the bottom)\n",
    "hist(data[:,0],color='y',alpha=.7)\n",
    "xlim(xmin,xmax)\n",
    "show()"
   ]
  },
  {
   "cell_type": "code",
   "execution_count": 12,
   "metadata": {
    "collapsed": false
   },
   "outputs": [
    {
     "data": {
      "text/plain": [
       "KMeans(copy_x=True, init='random', max_iter=300, n_clusters=3, n_init=10,\n",
       "    n_jobs=1, precompute_distances='auto', random_state=None, tol=0.0001,\n",
       "    verbose=0)"
      ]
     },
     "execution_count": 12,
     "metadata": {},
     "output_type": "execute_result"
    }
   ],
   "source": [
    "from sklearn.cluster import KMeans \n",
    "kmeans = KMeans(n_clusters=3, init='random') # initialization\n",
    "kmeans.fit(data) # actual execution"
   ]
  },
  {
   "cell_type": "code",
   "execution_count": 14,
   "metadata": {
    "collapsed": false
   },
   "outputs": [
    {
     "name": "stdout",
     "output_type": "stream",
     "text": [
      "(150,)\n",
      "[0 0 0 0 0 0 0 0 0 0 0 0 0 0 0 0 0 0 0 0 0 0 0 0 0 0 0 0 0 0 0 0 0 0 0 0 0\n",
      " 0 0 0 0 0 0 0 0 0 0 0 0 0 1 1 2 1 1 1 1 1 1 1 1 1 1 1 1 1 1 1 1 1 1 1 1 1\n",
      " 1 1 1 2 1 1 1 1 1 1 1 1 1 1 1 1 1 1 1 1 1 1 1 1 1 1 2 1 2 2 2 2 1 2 2 2 2\n",
      " 2 2 1 1 2 2 2 2 1 2 1 2 1 2 2 1 1 2 2 2 2 2 1 2 2 2 2 1 2 2 2 1 2 2 2 1 2\n",
      " 2 1]\n"
     ]
    }
   ],
   "source": [
    "c = kmeans.predict(data)\n",
    "print(c.shape)\n",
    "print(c)"
   ]
  },
  {
   "cell_type": "code",
   "execution_count": 15,
   "metadata": {
    "collapsed": false
   },
   "outputs": [
    {
     "ename": "NotImplementedError",
     "evalue": "Surface.create_for_data: Not Implemented yet.",
     "output_type": "error",
     "traceback": [
      "\u001b[1;31m---------------------------------------------------------------------------\u001b[0m",
      "\u001b[1;31mNotImplementedError\u001b[0m                       Traceback (most recent call last)",
      "\u001b[1;32m/usr/local/lib/python3.4/dist-packages/matplotlib-1.4.3-py3.4-linux-x86_64.egg/matplotlib/backends/backend_gtk3agg.py\u001b[0m in \u001b[0;36mon_draw_event\u001b[1;34m(self, widget, ctx)\u001b[0m\n\u001b[0;32m     67\u001b[0m             \u001b[1;32melse\u001b[0m\u001b[1;33m:\u001b[0m\u001b[1;33m\u001b[0m\u001b[0m\n\u001b[0;32m     68\u001b[0m                 image = cairo.ImageSurface.create_for_data(\n\u001b[1;32m---> 69\u001b[1;33m                     buf, cairo.FORMAT_ARGB32, width, height)\n\u001b[0m\u001b[0;32m     70\u001b[0m             \u001b[0mctx\u001b[0m\u001b[1;33m.\u001b[0m\u001b[0mset_source_surface\u001b[0m\u001b[1;33m(\u001b[0m\u001b[0mimage\u001b[0m\u001b[1;33m,\u001b[0m \u001b[0mx\u001b[0m\u001b[1;33m,\u001b[0m \u001b[0my\u001b[0m\u001b[1;33m)\u001b[0m\u001b[1;33m\u001b[0m\u001b[0m\n\u001b[0;32m     71\u001b[0m             \u001b[0mctx\u001b[0m\u001b[1;33m.\u001b[0m\u001b[0mpaint\u001b[0m\u001b[1;33m(\u001b[0m\u001b[1;33m)\u001b[0m\u001b[1;33m\u001b[0m\u001b[0m\n",
      "\u001b[1;31mNotImplementedError\u001b[0m: Surface.create_for_data: Not Implemented yet."
     ]
    },
    {
     "ename": "NotImplementedError",
     "evalue": "Surface.create_for_data: Not Implemented yet.",
     "output_type": "error",
     "traceback": [
      "\u001b[1;31m---------------------------------------------------------------------------\u001b[0m",
      "\u001b[1;31mNotImplementedError\u001b[0m                       Traceback (most recent call last)",
      "\u001b[1;32m/usr/local/lib/python3.4/dist-packages/matplotlib-1.4.3-py3.4-linux-x86_64.egg/matplotlib/backends/backend_gtk3agg.py\u001b[0m in \u001b[0;36mon_draw_event\u001b[1;34m(self, widget, ctx)\u001b[0m\n\u001b[0;32m     67\u001b[0m             \u001b[1;32melse\u001b[0m\u001b[1;33m:\u001b[0m\u001b[1;33m\u001b[0m\u001b[0m\n\u001b[0;32m     68\u001b[0m                 image = cairo.ImageSurface.create_for_data(\n\u001b[1;32m---> 69\u001b[1;33m                     buf, cairo.FORMAT_ARGB32, width, height)\n\u001b[0m\u001b[0;32m     70\u001b[0m             \u001b[0mctx\u001b[0m\u001b[1;33m.\u001b[0m\u001b[0mset_source_surface\u001b[0m\u001b[1;33m(\u001b[0m\u001b[0mimage\u001b[0m\u001b[1;33m,\u001b[0m \u001b[0mx\u001b[0m\u001b[1;33m,\u001b[0m \u001b[0my\u001b[0m\u001b[1;33m)\u001b[0m\u001b[1;33m\u001b[0m\u001b[0m\n\u001b[0;32m     71\u001b[0m             \u001b[0mctx\u001b[0m\u001b[1;33m.\u001b[0m\u001b[0mpaint\u001b[0m\u001b[1;33m(\u001b[0m\u001b[1;33m)\u001b[0m\u001b[1;33m\u001b[0m\u001b[0m\n",
      "\u001b[1;31mNotImplementedError\u001b[0m: Surface.create_for_data: Not Implemented yet."
     ]
    },
    {
     "ename": "NotImplementedError",
     "evalue": "Surface.create_for_data: Not Implemented yet.",
     "output_type": "error",
     "traceback": [
      "\u001b[1;31m---------------------------------------------------------------------------\u001b[0m",
      "\u001b[1;31mNotImplementedError\u001b[0m                       Traceback (most recent call last)",
      "\u001b[1;32m/usr/local/lib/python3.4/dist-packages/matplotlib-1.4.3-py3.4-linux-x86_64.egg/matplotlib/backends/backend_gtk3agg.py\u001b[0m in \u001b[0;36mon_draw_event\u001b[1;34m(self, widget, ctx)\u001b[0m\n\u001b[0;32m     67\u001b[0m             \u001b[1;32melse\u001b[0m\u001b[1;33m:\u001b[0m\u001b[1;33m\u001b[0m\u001b[0m\n\u001b[0;32m     68\u001b[0m                 image = cairo.ImageSurface.create_for_data(\n\u001b[1;32m---> 69\u001b[1;33m                     buf, cairo.FORMAT_ARGB32, width, height)\n\u001b[0m\u001b[0;32m     70\u001b[0m             \u001b[0mctx\u001b[0m\u001b[1;33m.\u001b[0m\u001b[0mset_source_surface\u001b[0m\u001b[1;33m(\u001b[0m\u001b[0mimage\u001b[0m\u001b[1;33m,\u001b[0m \u001b[0mx\u001b[0m\u001b[1;33m,\u001b[0m \u001b[0my\u001b[0m\u001b[1;33m)\u001b[0m\u001b[1;33m\u001b[0m\u001b[0m\n\u001b[0;32m     71\u001b[0m             \u001b[0mctx\u001b[0m\u001b[1;33m.\u001b[0m\u001b[0mpaint\u001b[0m\u001b[1;33m(\u001b[0m\u001b[1;33m)\u001b[0m\u001b[1;33m\u001b[0m\u001b[0m\n",
      "\u001b[1;31mNotImplementedError\u001b[0m: Surface.create_for_data: Not Implemented yet."
     ]
    },
    {
     "name": "stderr",
     "output_type": "stream",
     "text": [
      "/usr/local/lib/python3.4/dist-packages/matplotlib-1.4.3-py3.4-linux-x86_64.egg/matplotlib/backends/backend_gtk3.py:215: Warning: Source ID 2397 was not found when attempting to remove it\n",
      "  GLib.source_remove(self._idle_event_id)\n"
     ]
    }
   ],
   "source": [
    "figure()\n",
    "subplot(211) # top figure with the real classes\n",
    "plot(data[target=='setosa',0],data[target=='setosa',2],'bo')\n",
    "plot(data[target=='versicolor',0],data[target=='versicolor',2],'ro')\n",
    "plot(data[target=='virginica',0],data[target=='virginica',2],'go')\n",
    "subplot(212) # bottom figure with classes assigned automatically\n",
    "plot(data[c==1,0],data[c==1,2],'bo',alpha=.7)\n",
    "plot(data[c==2,0],data[c==2,2],'go',alpha=.7)\n",
    "plot(data[c==0,0],data[c==0,2],'mo',alpha=.7)\n",
    "show()"
   ]
  },
  {
   "cell_type": "code",
   "execution_count": 18,
   "metadata": {
    "collapsed": false
   },
   "outputs": [
    {
     "data": {
      "text/plain": [
       "(150,)"
      ]
     },
     "execution_count": 18,
     "metadata": {},
     "output_type": "execute_result"
    }
   ],
   "source": [
    "testList = target=='setosa'\n",
    "testList.shape\n"
   ]
  },
  {
   "cell_type": "code",
   "execution_count": 19,
   "metadata": {
    "collapsed": false
   },
   "outputs": [
    {
     "data": {
      "text/plain": [
       "(50, 1)"
      ]
     },
     "execution_count": 19,
     "metadata": {},
     "output_type": "execute_result"
    }
   ],
   "source": [
    "anotherList = data[testList,2:3]\n",
    "anotherList.shape"
   ]
  },
  {
   "cell_type": "code",
   "execution_count": null,
   "metadata": {
    "collapsed": true
   },
   "outputs": [],
   "source": []
  }
 ],
 "metadata": {
  "kernelspec": {
   "display_name": "Python 3",
   "language": "python",
   "name": "python3"
  },
  "language_info": {
   "codemirror_mode": {
    "name": "ipython",
    "version": 3
   },
   "file_extension": ".py",
   "mimetype": "text/x-python",
   "name": "python",
   "nbconvert_exporter": "python",
   "pygments_lexer": "ipython3",
   "version": "3.4.3"
  }
 },
 "nbformat": 4,
 "nbformat_minor": 0
}
