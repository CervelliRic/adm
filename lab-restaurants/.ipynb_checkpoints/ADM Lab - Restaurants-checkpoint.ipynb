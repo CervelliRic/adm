{
 "cells": [
  {
   "cell_type": "markdown",
   "metadata": {},
   "source": [
    "We will work with the data provided by the [Open Data portal of Italy](http://www.datiopen.it) that aggregates datasets published by the Italian government, the Regions and Provinces of Italy and the City Houses. We will work with the dataset produced by the Region of Lazio regarding the bars & restaurants that operate in the region in the period 2007-2013. The data is originally provided by the [Regional Observatory of Lazio](http://www.osservatoriocommercio.lazio.it/). The dataset is available in various different formats, here we will work with the one in JSON format:\n",
    "* [Regione Lazio Regione Lazio - Pubblici esercizi permanenti (Bar-Ristoranti)](http://www.datiopen.it/it/opendata/Regione_Lazio_Pubblici_esercizi_permanenti_Bar_Ristoranti_)\n",
    "\n",
    "The Open Data portal is developed on the [CKAN platform](https://ckan.org/), a data management system that makes data accessible – by providing tools to streamline publishing, sharing, finding and using data. Through the *Scarica* tab you can download the dataset in JSON format.\n",
    "\n",
    "All three datasets share the same format:\n",
    "- Municipality (Comune)\n",
    "- Province (Provincia)\n",
    "- Year (Anno)\n",
    "- Bars\n",
    " * Total\n",
    " * New Openings (aperture)\n",
    " * Closed (chiusure)\n",
    " * Subingressi\n",
    "- Restaurants\n",
    " * Total\n",
    " * New Openings (aperture)\n",
    " * Closed (chiusure)\n",
    " * Subingressi\n",
    "- Bar-Restaurants\n",
    " * Total\n",
    " * New Openings (aperture)\n",
    " * Closed (chiusure)\n",
    " * Subingressi\n"
   ]
  },
  {
   "cell_type": "code",
   "execution_count": null,
   "metadata": {
    "collapsed": true
   },
   "outputs": [],
   "source": []
  }
 ],
 "metadata": {
  "kernelspec": {
   "display_name": "Python 3",
   "language": "python",
   "name": "python3"
  },
  "language_info": {
   "codemirror_mode": {
    "name": "ipython",
    "version": 3
   },
   "file_extension": ".py",
   "mimetype": "text/x-python",
   "name": "python",
   "nbconvert_exporter": "python",
   "pygments_lexer": "ipython3",
   "version": "3.5.2"
  }
 },
 "nbformat": 4,
 "nbformat_minor": 1
}
