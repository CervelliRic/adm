{
 "cells": [
  {
   "cell_type": "markdown",
   "metadata": {},
   "source": [
    "We will work with the data provided by the [Open Data portal of Italy](http://www.datiopen.it) that aggregates datasets published by the Italian government, the Regions and Provinces of Italy and the City Houses. We will work with the dataset produced by the Region of Lazio regarding the bars & restaurants that operate in the region in the period 2007-2013. The data is originally provided by the [Regional Observatory of Lazio](http://www.osservatoriocommercio.lazio.it/). The dataset is available in various different formats, here we will work with the one in JSON format:\n",
    "* [Regione Lazio Regione Lazio - Pubblici esercizi permanenti (Bar-Ristoranti)](http://www.datiopen.it/it/opendata/Regione_Lazio_Pubblici_esercizi_permanenti_Bar_Ristoranti_)\n",
    "\n",
    "The Open Data portal is developed on the [CKAN platform](https://ckan.org/), a data management system that makes data accessible – by providing tools to streamline publishing, sharing, finding and using data. Through the *Scarica* tab you can download the dataset in JSON format (under the section *Esporta in altri formati*). For convenience, rename the file to *dataset.json*.\n",
    "\n",
    "The dataset provides the following information:\n",
    "- Municipality (ccomune)\n",
    "- Province (cprovincia)\n",
    "- Year (canno)\n",
    "- Bars\n",
    " * Total (cbar_totale)\n",
    " * New Openings (cbar_aperture)\n",
    " * Closed (cbar_chiusure)\n",
    " * Subingressi (cbar_subingressi)\n",
    "- Restaurants\n",
    " * Total (cristoranti_totale)\n",
    " * New Openings (cristoranti_aperture)\n",
    " * Closed (cristoranti_chiusure)\n",
    " * Subingressi (cristoranti_subingressi)\n",
    "- Bar-Restaurants\n",
    " * Total (cbar_ristoranti_totale)\n",
    " * New Openings (cbar_ristoranti_aperture)\n",
    " * Closed (cbar_ristoranti_chiusure)\n",
    " * Subingressi (cbar_ristoranti_subingressi)\n",
    "  \n",
    "### Load Datasets in JSON format\n",
    "\n",
    "The files retrieved follows a JSON format. \n",
    "\n",
    "We will use the [JSON encoder and decoder](https://docs.python.org/3/library/json.html) a standard python package as defined in [W3C School on JSON](https://www.w3schools.com/js/js_json_intro.asp). \n",
    "\n",
    "We load all the contents of the file into a string variable *data*."
   ]
  },
  {
   "cell_type": "code",
   "execution_count": 11,
   "metadata": {
    "collapsed": true
   },
   "outputs": [],
   "source": [
    "fo = open('dataset.json', 'r')\n",
    "data = fo.read()\n",
    "fo.close()"
   ]
  },
  {
   "cell_type": "markdown",
   "metadata": {},
   "source": [
    "Essentially all the contents of the file are loaded into the available memory of our machine."
   ]
  },
  {
   "cell_type": "code",
   "execution_count": 10,
   "metadata": {
    "collapsed": false
   },
   "outputs": [
    {
     "data": {
      "text/plain": [
       "1216003"
      ]
     },
     "execution_count": 10,
     "metadata": {},
     "output_type": "execute_result"
    }
   ],
   "source": [
    "len(data)"
   ]
  },
  {
   "cell_type": "markdown",
   "metadata": {},
   "source": [
    "We use the [loads](https://docs.python.org/3/library/json.html#encoders-and-decoders) standard decoder that converts the JSON string sequence into a standard list object where each row of the list contains a dictionary object."
   ]
  },
  {
   "cell_type": "code",
   "execution_count": 6,
   "metadata": {
    "collapsed": false
   },
   "outputs": [],
   "source": [
    "import json\n",
    "dataset = json.loads(data)"
   ]
  },
  {
   "cell_type": "code",
   "execution_count": 15,
   "metadata": {
    "collapsed": false
   },
   "outputs": [
    {
     "data": {
      "text/plain": [
       "list"
      ]
     },
     "execution_count": 15,
     "metadata": {},
     "output_type": "execute_result"
    }
   ],
   "source": [
    "type(dataset)"
   ]
  },
  {
   "cell_type": "markdown",
   "metadata": {},
   "source": [
    "The dataset contains a total of 2646 rows."
   ]
  },
  {
   "cell_type": "code",
   "execution_count": 14,
   "metadata": {
    "collapsed": false
   },
   "outputs": [
    {
     "data": {
      "text/plain": [
       "2646"
      ]
     },
     "execution_count": 14,
     "metadata": {},
     "output_type": "execute_result"
    }
   ],
   "source": [
    "len(dataset)"
   ]
  },
  {
   "cell_type": "markdown",
   "metadata": {},
   "source": [
    "In this format we can access each row directly:"
   ]
  },
  {
   "cell_type": "code",
   "execution_count": 19,
   "metadata": {
    "collapsed": false
   },
   "outputs": [
    {
     "data": {
      "text/plain": [
       "{'canno': '2007',\n",
       " 'caperture': '0',\n",
       " 'cbar_aperture': '',\n",
       " 'cbar_chiusure': '',\n",
       " 'cbar_ristoranti_aperture': '',\n",
       " 'cbar_ristoranti_chiusure': '',\n",
       " 'cbar_ristoranti_subingressi': '',\n",
       " 'cbar_ristoranti_totale': '',\n",
       " 'cbar_subingressi': '',\n",
       " 'cbar_totale': '',\n",
       " 'cchiusure': '0',\n",
       " 'ccomune': 'Acquapendente',\n",
       " 'cprovincia': 'VITERBO',\n",
       " 'cristoranti_aperture': '',\n",
       " 'cristoranti_chiusure': '',\n",
       " 'cristoranti_subingressi': '',\n",
       " 'cristoranti_totale': '',\n",
       " 'csubingressi': '1',\n",
       " 'ctotale': '32'}"
      ]
     },
     "execution_count": 19,
     "metadata": {},
     "output_type": "execute_result"
    }
   ],
   "source": [
    "dataset[0]"
   ]
  },
  {
   "cell_type": "markdown",
   "metadata": {},
   "source": [
    "## Storing data in a Document Database\n",
    "\n",
    "We now wish to store the contents of the dataset into a document database where each row becomes a separate document. We will use the [MongoDB](https://www.mongodb.com/what-is-mongodb) and the Database-as-a-service provider [mLab](https://mlab.com/).\n",
    "\n",
    "Using the web interface provided by mLab:\n",
    "1. Create a new account under mLab\n",
    "2. Create a new Database utilizing the 500MB sandbox provided by MLab without any charges.\n",
    "\n",
    "We will access the mongoDB database provided by mLab through the [API (Application Programmers Interface)](http://docs.mlab.com/data-api/). To do so we need to enable the API access and acquire a API Key. Once again, through the web interface provided by mLab:\n",
    "\n",
    "1. Follow the link by clicking on your username, on the top-right of the main web page.\n",
    "2. Copy the API key provided by mLab account - this is unique for your account, \n",
    "3. Make sure that Data API access is enabled by clicking on the button *Enable Data API access*.\n",
    "\n",
    "Please note that mLab’s Data API uses [MongoDB Extended JSON in strict mode](https://docs.mongodb.com/v3.2/reference/mongodb-extended-json/) to encode queries and documents.\n",
    "\n",
    "\n",
    "### Simple operations via MongoDB Data API\n",
    "\n",
    "We start by using the API endpoint */Databases* to retrieve the databases linked to the authenticated account using [requests](http://docs.python-requests.org/en/master/#) python library for using the HTTP protocol in a simple and straight-forward way."
   ]
  },
  {
   "cell_type": "code",
   "execution_count": 21,
   "metadata": {
    "collapsed": true
   },
   "outputs": [],
   "source": [
    "import requests\n",
    "\n",
    "params = {'apiKey': 'sStgqsMbRn5EyHWssNpLqEvCRin1BWW3'}\n",
    "url = 'https://api.mlab.com/api/1/databases'\n",
    "response = requests.get(url, params)"
   ]
  },
  {
   "cell_type": "markdown",
   "metadata": {},
   "source": [
    "The [get](http://docs.python-requests.org/en/master/user/quickstart/#make-a-request) method is making an HTTP GET request passing the single parameter required by the particular API endpoint, that is the *apiKey*. \n",
    "\n",
    "If the HTTP request is completed successfully (the apiKey is correct, Data API access is enabled) the server will respond with 200 (OK)."
   ]
  },
  {
   "cell_type": "code",
   "execution_count": 23,
   "metadata": {
    "collapsed": false
   },
   "outputs": [
    {
     "data": {
      "text/plain": [
       "<Response [200]>"
      ]
     },
     "execution_count": 23,
     "metadata": {},
     "output_type": "execute_result"
    }
   ],
   "source": [
    "response"
   ]
  },
  {
   "cell_type": "markdown",
   "metadata": {},
   "source": [
    "We can access the contents of the result through the *text* element of the [response object](http://docs.python-requests.org/en/master/user/quickstart/#response-content)"
   ]
  },
  {
   "cell_type": "code",
   "execution_count": 24,
   "metadata": {
    "collapsed": false
   },
   "outputs": [
    {
     "data": {
      "text/plain": [
       "'[ \"adm\" , \"adm2017\" , \"ds\" , \"seed\" ]'"
      ]
     },
     "execution_count": 24,
     "metadata": {},
     "output_type": "execute_result"
    }
   ],
   "source": [
    "response.text"
   ]
  },
  {
   "cell_type": "code",
   "execution_count": null,
   "metadata": {
    "collapsed": true
   },
   "outputs": [],
   "source": []
  }
 ],
 "metadata": {
  "kernelspec": {
   "display_name": "Python 3",
   "language": "python",
   "name": "python3"
  },
  "language_info": {
   "codemirror_mode": {
    "name": "ipython",
    "version": 3
   },
   "file_extension": ".py",
   "mimetype": "text/x-python",
   "name": "python",
   "nbconvert_exporter": "python",
   "pygments_lexer": "ipython3",
   "version": "3.5.2"
  }
 },
 "nbformat": 4,
 "nbformat_minor": 1
}
