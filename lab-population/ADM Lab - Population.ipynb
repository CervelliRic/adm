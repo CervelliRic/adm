{
 "cells": [
  {
   "cell_type": "markdown",
   "metadata": {
    "collapsed": true
   },
   "source": [
    "We will work with the data provided by the [Open Data portal of the City of Rome](http://dati.comune.roma.it/). \n",
    "We use datasets related to registered population from other countries based on country of origin, sex and place of residence which is available for the years 2014, 2013 and 2012. In particular we will work with the following three sets available in CSV format (using semicolons as delimiter):\n",
    "* [Popolazione straniera iscritta in anagrafe per municipio, sesso e cittadinanza. Al 31-12-2014](http://dati.comune.roma.it/cms/it/dettaglio_pop_e_societa.page?contentId=DTS542)\n",
    "* [Popolazione straniera iscritta in anagrafe per municipio, sesso e cittadinanza. Al 31-12-2013](http://dati.comune.roma.it/cms/it/dettaglio_pop_e_societa.page?contentId=DTS725)\n",
    "* [Popolazione straniera iscritta in anagrafe per municipio, sesso e cittadinanza. Al 31-12-2012](http://dati.comune.roma.it/cms/it/dettaglio_pop_e_societa.page?contentId=DTS728)\n",
    "\n",
    "All three datasets share the same format:\n",
    "- Country of Origin\n",
    "- Continent\n",
    "- For each Municipio of Rome (the city is devided in 15 administrative regions) a breakdown\n",
    "\n",
    " * Males (M)\n",
    " * Females (M)\n",
    " * Total (TOT or MF)"
   ]
  },
  {
   "cell_type": "code",
   "execution_count": null,
   "metadata": {},
   "outputs": [],
   "source": []
  }
 ],
 "metadata": {
  "kernelspec": {
   "display_name": "Python 2",
   "language": "python",
   "name": "python2"
  },
  "language_info": {
   "codemirror_mode": {
    "name": "ipython",
    "version": 2
   },
   "file_extension": ".py",
   "mimetype": "text/x-python",
   "name": "python",
   "nbconvert_exporter": "python",
   "pygments_lexer": "ipython2",
   "version": "2.7.6"
  }
 },
 "nbformat": 4,
 "nbformat_minor": 0
}
